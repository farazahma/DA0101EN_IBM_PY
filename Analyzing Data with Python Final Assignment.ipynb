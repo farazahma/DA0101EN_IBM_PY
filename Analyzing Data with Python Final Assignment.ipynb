{
    "cells": [
        {
            "metadata": {},
            "cell_type": "markdown",
            "source": "<a><img src=\"https://ibm.box.com/shared/static/ugcqz6ohbvff804xp84y4kqnvvk3bq1g.png\" width=\"200\" align=\"center\"></a>"
        },
        {
            "metadata": {},
            "cell_type": "markdown",
            "source": "<h1>Analyzing Where Do People Drink?  </h1>\n<h2>Description</h2>"
        },
        {
            "metadata": {},
            "cell_type": "markdown",
            "source": "This Dataset is from the story <a href=https://fivethirtyeight.com/features/dear-mona-followup-where-do-people-drink-the-most-beer-wine-and-spirits/>  Dear Mona Followup: Where Do People Drink The Most Beer, Wine And Spirits? </a>  The dataset contains Average serving sizes per person such as average wine, spirit, beer servings. As well as several other metrics. You will be asked to analyze the data and predict the total liters served given the servings. See how to share your lab at the end."
        },
        {
            "metadata": {},
            "cell_type": "markdown",
            "source": "You will need the following libraries:"
        },
        {
            "metadata": {},
            "cell_type": "code",
            "source": "import pandas as pd\nimport numpy as np\nimport matplotlib.pyplot as plt\nimport matplotlib as mpl\n\n",
            "execution_count": 1,
            "outputs": []
        },
        {
            "metadata": {},
            "cell_type": "markdown",
            "source": "<b>1.0 Importing the Data</b>"
        },
        {
            "metadata": {},
            "cell_type": "markdown",
            "source": "Load the csv:"
        },
        {
            "metadata": {},
            "cell_type": "code",
            "source": "df= pd.read_csv('https://s3-api.us-geo.objectstorage.softlayer.net/cf-courses-data/CognitiveClass/DA0101EN/edx/project/drinks.csv')\n",
            "execution_count": 2,
            "outputs": []
        },
        {
            "metadata": {},
            "cell_type": "markdown",
            "source": "We use the method  <code>head()</code>  to display the first 5 columns of the dataframe:"
        },
        {
            "metadata": {},
            "cell_type": "code",
            "source": "df.head()",
            "execution_count": 3,
            "outputs": [
                {
                    "output_type": "execute_result",
                    "execution_count": 3,
                    "data": {
                        "text/plain": "       country  beer_servings  spirit_servings  wine_servings  \\\n0  Afghanistan              0                0              0   \n1      Albania             89              132             54   \n2      Algeria             25                0             14   \n3      Andorra            245              138            312   \n4       Angola            217               57             45   \n\n   total_litres_of_pure_alcohol continent  \n0                           0.0      Asia  \n1                           4.9    Europe  \n2                           0.7    Africa  \n3                          12.4    Europe  \n4                           5.9    Africa  ",
                        "text/html": "<div>\n<style scoped>\n    .dataframe tbody tr th:only-of-type {\n        vertical-align: middle;\n    }\n\n    .dataframe tbody tr th {\n        vertical-align: top;\n    }\n\n    .dataframe thead th {\n        text-align: right;\n    }\n</style>\n<table border=\"1\" class=\"dataframe\">\n  <thead>\n    <tr style=\"text-align: right;\">\n      <th></th>\n      <th>country</th>\n      <th>beer_servings</th>\n      <th>spirit_servings</th>\n      <th>wine_servings</th>\n      <th>total_litres_of_pure_alcohol</th>\n      <th>continent</th>\n    </tr>\n  </thead>\n  <tbody>\n    <tr>\n      <th>0</th>\n      <td>Afghanistan</td>\n      <td>0</td>\n      <td>0</td>\n      <td>0</td>\n      <td>0.0</td>\n      <td>Asia</td>\n    </tr>\n    <tr>\n      <th>1</th>\n      <td>Albania</td>\n      <td>89</td>\n      <td>132</td>\n      <td>54</td>\n      <td>4.9</td>\n      <td>Europe</td>\n    </tr>\n    <tr>\n      <th>2</th>\n      <td>Algeria</td>\n      <td>25</td>\n      <td>0</td>\n      <td>14</td>\n      <td>0.7</td>\n      <td>Africa</td>\n    </tr>\n    <tr>\n      <th>3</th>\n      <td>Andorra</td>\n      <td>245</td>\n      <td>138</td>\n      <td>312</td>\n      <td>12.4</td>\n      <td>Europe</td>\n    </tr>\n    <tr>\n      <th>4</th>\n      <td>Angola</td>\n      <td>217</td>\n      <td>57</td>\n      <td>45</td>\n      <td>5.9</td>\n      <td>Africa</td>\n    </tr>\n  </tbody>\n</table>\n</div>"
                    },
                    "metadata": {}
                }
            ]
        },
        {
            "metadata": {},
            "cell_type": "markdown",
            "source": "<b>Question 1</b>:  Display the data types of each column using the attribute\u202fdtype."
        },
        {
            "metadata": {},
            "cell_type": "code",
            "source": "df.dtypes",
            "execution_count": 4,
            "outputs": [
                {
                    "output_type": "execute_result",
                    "execution_count": 4,
                    "data": {
                        "text/plain": "country                          object\nbeer_servings                     int64\nspirit_servings                   int64\nwine_servings                     int64\ntotal_litres_of_pure_alcohol    float64\ncontinent                        object\ndtype: object"
                    },
                    "metadata": {}
                }
            ]
        },
        {
            "metadata": {},
            "cell_type": "markdown",
            "source": "<b>Question 2</b> use the method\u202f<code>groupby</code> to get the number of wine servings per continent:"
        },
        {
            "metadata": {},
            "cell_type": "code",
            "source": "df.groupby('continent').wine_servings.sum()",
            "execution_count": 5,
            "outputs": [
                {
                    "output_type": "execute_result",
                    "execution_count": 5,
                    "data": {
                        "text/plain": "continent\nAfrica            862\nAsia              399\nEurope           6400\nNorth America     564\nOceania           570\nSouth America     749\nName: wine_servings, dtype: int64"
                    },
                    "metadata": {}
                }
            ]
        },
        {
            "metadata": {},
            "cell_type": "markdown",
            "source": "<b>Question 3:</b> Perform a statistical summary and analysis of beer servings for each continent:"
        },
        {
            "metadata": {},
            "cell_type": "code",
            "source": "df[['continent']].describe()",
            "execution_count": 6,
            "outputs": [
                {
                    "output_type": "execute_result",
                    "execution_count": 6,
                    "data": {
                        "text/plain": "       continent\ncount        193\nunique         6\ntop       Africa\nfreq          53",
                        "text/html": "<div>\n<style scoped>\n    .dataframe tbody tr th:only-of-type {\n        vertical-align: middle;\n    }\n\n    .dataframe tbody tr th {\n        vertical-align: top;\n    }\n\n    .dataframe thead th {\n        text-align: right;\n    }\n</style>\n<table border=\"1\" class=\"dataframe\">\n  <thead>\n    <tr style=\"text-align: right;\">\n      <th></th>\n      <th>continent</th>\n    </tr>\n  </thead>\n  <tbody>\n    <tr>\n      <th>count</th>\n      <td>193</td>\n    </tr>\n    <tr>\n      <th>unique</th>\n      <td>6</td>\n    </tr>\n    <tr>\n      <th>top</th>\n      <td>Africa</td>\n    </tr>\n    <tr>\n      <th>freq</th>\n      <td>53</td>\n    </tr>\n  </tbody>\n</table>\n</div>"
                    },
                    "metadata": {}
                }
            ]
        },
        {
            "metadata": {},
            "cell_type": "markdown",
            "source": "<b>Question 4:</b> Use the function\u202fboxplot\u202fin the seaborn library to produce a plot that can be used to show the number of beer servings on each continent."
        },
        {
            "metadata": {},
            "cell_type": "code",
            "source": "import seaborn as sns \nsns.boxplot(x=\"continent\", y=\"beer_servings\", data=df)",
            "execution_count": 7,
            "outputs": [
                {
                    "output_type": "execute_result",
                    "execution_count": 7,
                    "data": {
                        "text/plain": "<matplotlib.axes._subplots.AxesSubplot at 0x7fe8efdccc88>"
                    },
                    "metadata": {}
                },
                {
                    "output_type": "display_data",
                    "data": {
                        "text/plain": "<Figure size 432x288 with 1 Axes>",
                        "image/png": "[encoded data removed]"
                    },
                    "metadata": {
                        "needs_background": "light"
                    }
                }
            ]
        },
        {
            "metadata": {},
            "cell_type": "markdown",
            "source": "<b>Question 5</b>: Use the function\u202f<code> regplot</code> in the seaborn library to determine if the number of wine servings is\nnegatively or positively correlated with the number of beer servings."
        },
        {
            "metadata": {},
            "cell_type": "code",
            "source": "import seaborn as sns \nsns.regplot(x=\"wine_servings\", y=\"beer_servings\", data=df)\nplt.ylim(0,)\n",
            "execution_count": 9,
            "outputs": [
                {
                    "output_type": "execute_result",
                    "execution_count": 9,
                    "data": {
                        "text/plain": "(0, 418.747217604133)"
                    },
                    "metadata": {}
                },
                {
                    "output_type": "display_data",
                    "data": {
                        "text/plain": "<Figure size 432x288 with 1 Axes>",
                        "image/png": "[encoded data removed]"
                    },
                    "metadata": {
                        "needs_background": "light"
                    }
                }
            ]
        },
        {
            "metadata": {},
            "cell_type": "markdown",
            "source": "<b> Question 6:</b> Fit a linear regression model to predict the <code>'total_litres_of_pure_alcohol'</code> using the number of <code>'wine_servings'</code> then calculate $R^{2}$:\n"
        },
        {
            "metadata": {},
            "cell_type": "code",
            "source": "from sklearn.linear_model import LinearRegression\n\nlm = LinearRegression()\nlm\n\nX = df[['wine_servings']]\nY = df['total_litres_of_pure_alcohol']\n\n# Fit the linear model using wine_servings\nlm.fit(X, Y)\n\n# output a prediction \nYhat=lm.predict(X)\nprint ('The Yhat value is: ', Yhat[0:5])\n\n# Find the R^2\nprint('The R-square is: ', lm.score(X, Y))",
            "execution_count": 10,
            "outputs": [
                {
                    "output_type": "stream",
                    "text": "The Yhat value is:  [ 3.15407943  4.86088833  3.59658545 13.01564196  4.57642018]\nThe R-square is:  0.4456875459787605\n",
                    "name": "stdout"
                }
            ]
        },
        {
            "metadata": {},
            "cell_type": "markdown",
            "source": "### Question 7\nUse the list of features to predict the <code>'total_litres_of_pure_alcohol'</code>, split the data into training and testing and determine the $R^2$ on the test data, using the provided code:"
        },
        {
            "metadata": {},
            "cell_type": "code",
            "source": "from sklearn.linear_model import LinearRegression\n\n# place the target data total_litres_of_pure_alcohol in a separate dataframe y\ny_data = df['total_litres_of_pure_alcohol']\n\n# drop total_litres_of_pure_alcohol data in x data\nx_data=df.drop('total_litres_of_pure_alcohol',axis=1)\n\n# randomly split our data into training and testing data using the function train_test_split.\nfrom sklearn.model_selection import train_test_split\n\nx_train, x_test, y_train, y_test = train_test_split(x_data, y_data, test_size=0.30, random_state=1)\n\nprint(\"number of test samples :\", x_test.shape[0])\nprint(\"number of training samples:\",x_train.shape[0])\n\n# create a Linear Regression object:\nlre=LinearRegression()\n\n# fit the model using the feature wine_servings\nlre.fit(x_train[['wine_servings']], y_train)\n\n# Predict \nYhat=lre.predict(x_train[['wine_servings']])\nprint('The output of the first ten predicted value is: ', Yhat[0:5])\n\n\n# Calculate the R^2 on the train data\nlre.score(x_train[['wine_servings']], y_train)\nprint ('The R-squared on train data is: ', lre.score(x_train[['wine_servings']], y_train))\n\n# Calculate the R^2 on the test data\nlre.score(x_test[['wine_servings']], y_test)\nprint ('The R-squared on test data is: ', lre.score(x_test[['wine_servings']], y_test))",
            "execution_count": 14,
            "outputs": [
                {
                    "output_type": "stream",
                    "text": "number of test samples : 58\nnumber of training samples: 135\nThe output of the first ten predicted value is:  [5.00767433 5.58379519 3.63138563 3.3433252  3.21529835]\nThe R-squared on train data is:  0.4317652808514545\nThe R-squared on test data is:  0.4783928789266861\n",
                    "name": "stdout"
                }
            ]
        },
        {
            "metadata": {},
            "cell_type": "markdown",
            "source": "<b>Question 8 :</b> Create a pipeline object that scales the data, performs a polynomial transform and fits a linear regression model. Fit the object using the training data in the question above, then calculate the R^2 using. the test data. Take a screenshot of your code and the $R^{2}$. There are some hints in the notebook:"
        },
        {
            "metadata": {},
            "cell_type": "markdown",
            "source": "<code>'scale'</code>\n\n<code>'polynomial'</code>\n\n<code>'model'</code>\n\nThe second element in the tuple contains the model constructor\n\n<code>StandardScaler()</code>\n\n<code>PolynomialFeatures(include_bias=False)</code>\n\n<code>LinearRegression()</code>\n",
            "attachments": {}
        },
        {
            "metadata": {
                "scrolled": true
            },
            "cell_type": "code",
            "source": "from sklearn.pipeline import Pipeline\nfrom sklearn.preprocessing import StandardScaler,PolynomialFeatures\n\n# create the pipeline, by creating a list of tuples including the name of the model or estimator and its corresponding constructor.\nInput=[('scale',StandardScaler()), ('polynomial', PolynomialFeatures(include_bias=False)), ('model',LinearRegression())]\n\n# nput the list as an argument to the pipeline constructor\npipe=Pipeline(Input)\npipe\n\n# normalize, transform and fit the model simultaneously.\npipe.fit(x_data[['wine_servings']], y_data)\n\n# produce a prediction \nypipe=pipe.predict(x_data[['wine_servings']])\n\n\n# Calculate the R^2 on the test data\nr_squared = pipe.score(x_test[['wine_servings']], y_test)\nprint ('The R-squared on test data is: ', r_squared)\n\n",
            "execution_count": 16,
            "outputs": [
                {
                    "output_type": "stream",
                    "text": "The R-squared on test data is:  0.5058310499536944\n",
                    "name": "stdout"
                },
                {
                    "output_type": "stream",
                    "text": "/opt/conda/envs/Python36/lib/python3.6/site-packages/sklearn/preprocessing/data.py:645: DataConversionWarning: Data with input dtype int64 were all converted to float64 by StandardScaler.\n  return self.partial_fit(X, y)\n/opt/conda/envs/Python36/lib/python3.6/site-packages/sklearn/base.py:467: DataConversionWarning: Data with input dtype int64 were all converted to float64 by StandardScaler.\n  return self.fit(X, y, **fit_params).transform(X)\n/opt/conda/envs/Python36/lib/python3.6/site-packages/sklearn/pipeline.py:331: DataConversionWarning: Data with input dtype int64 were all converted to float64 by StandardScaler.\n  Xt = transform.transform(Xt)\n/opt/conda/envs/Python36/lib/python3.6/site-packages/sklearn/pipeline.py:511: DataConversionWarning: Data with input dtype int64 were all converted to float64 by StandardScaler.\n  Xt = transform.transform(Xt)\n",
                    "name": "stderr"
                }
            ]
        },
        {
            "metadata": {},
            "cell_type": "markdown",
            "source": "<b>Question 9</b>: Create and fit a Ridge regression object using the training data, setting the regularization parameter to 0.1 and calculate the $R^{2}$ using the test data. Take a screenshot of your code and the $R^{2}$\n",
            "attachments": {}
        },
        {
            "metadata": {},
            "cell_type": "code",
            "source": "from sklearn.linear_model import Ridge\n\npr=PolynomialFeatures()\nx_train_pr=pr.fit_transform(x_train[['wine_servings']])\nx_test_pr=pr.fit_transform(x_test[['wine_servings']])\n\nRigeModel=Ridge()\nRigeModel.fit(x_train_pr, y_train)\n\nyhat = RigeModel.predict(x_test_pr)\n\nrsq = RigeModel.score(x_test_pr, y_test)\nprint ('The R-squared on test data is: ', rsq)\n",
            "execution_count": 20,
            "outputs": [
                {
                    "output_type": "stream",
                    "text": "The R-squared on test data is:  0.4966981449972102\n",
                    "name": "stdout"
                }
            ]
        },
        {
            "metadata": {},
            "cell_type": "markdown",
            "source": "<b>Question 10 </b>: Perform a 2nd order polynomial transform on both the training data and testing data.  Create and fit a Ridge regression object using the training data, setting the regularization parameter to 0.1. Calculate the $R^{2}$ utilizing the test data provided. Take a screen-shot of your code and the $R^{2}$. \n",
            "attachments": {}
        },
        {
            "metadata": {},
            "cell_type": "code",
            "source": "from sklearn.linear_model import Ridge\n\npr=PolynomialFeatures(degree=2)\nx_train_pr=pr.fit_transform(x_train[['wine_servings']])\nx_test_pr=pr.fit_transform(x_test[['wine_servings']])\n\n# regularization parameter to 0.1 \nRigeModel=Ridge(alpha=0.1)\nRigeModel.fit(x_train_pr, y_train)\n\nyhat2 = RigeModel.predict(x_test_pr)\n\nrsq2 = RigeModel.score(x_test_pr, y_test)\nprint ('The R-squared on test data is: ', rsq2)",
            "execution_count": 19,
            "outputs": [
                {
                    "output_type": "stream",
                    "text": "The R-squared on test data is:  0.4966972547310345\n",
                    "name": "stdout"
                }
            ]
        },
        {
            "metadata": {},
            "cell_type": "markdown",
            "source": "<a href=\"https://dataplatform.cloud.ibm.com/docs/content/wsj/analyze-data/share-notebooks.html\\\" > CLICK HERE </a>  to see how to share your notebook"
        },
        {
            "metadata": {},
            "cell_type": "markdown",
            "source": "<b>Sources</b>"
        },
        {
            "metadata": {},
            "cell_type": "markdown",
            "source": "<a href=https://fivethirtyeight.com/features/dear-mona-followup-where-do-people-drink-the-most-beer-wine-and-spirits/> Dear Mona Followup: Where Do People Drink The Most Beer, Wine And Spirits?</a> by By Mona Chalabi , you can download the dataset <a href=https://github.com/fivethirtyeight/data/tree/master/alcohol-consumption>here</a>."
        }
    ],
    "metadata": {
        "kernelspec": {
            "name": "python3",
            "display_name": "Python 3.6",
            "language": "python"
        },
        "language_info": {
            "name": "python",
            "version": "3.6.9",
            "mimetype": "text/x-python",
            "codemirror_mode": {
                "name": "ipython",
                "version": 3
            },
            "pygments_lexer": "ipython3",
            "nbconvert_exporter": "python",
            "file_extension": ".py"
        }
    },
    "nbformat": 4,
    "nbformat_minor": 2
}